{
 "cells": [
  {
   "cell_type": "code",
   "execution_count": 2,
   "metadata": {},
   "outputs": [
    {
     "output_type": "execute_result",
     "data": {
      "text/plain": "    Rank                            Name                       basename  \\\n19    20              Grand Theft Auto V             grand-theft-auto-v   \n20    21              Grand Theft Auto V             grand-theft-auto-v   \n30    31     Grand Theft Auto: Vice City     grand-theft-auto-vice-city   \n32    33              Grand Theft Auto V             grand-theft-auto-v   \n34    35       Call of Duty: Black Ops 3       call-of-duty-black-ops-3   \n40    41  Call of Duty: Modern Warfare 3  call-of-duty-modern-warfare-3   \n41    42         Call of Duty: Black Ops         call-of-duty-black-ops   \n45    46           Red Dead Redemption 2          red-dead-redemption-2   \n46    47      Call of Duty: Black Ops II      call-of-duty-black-ops-ii   \n47    48      Call of Duty: Black Ops II      call-of-duty-black-ops-ii   \n49    50  Call of Duty: Modern Warfare 2  call-of-duty-modern-warfare-2   \n50    51              Call of Duty: WWII              call-of-duty-wwii   \n51    52  Call of Duty: Modern Warfare 3  call-of-duty-modern-warfare-3   \n53    54            Grand Theft Auto III           grand-theft-auto-iii   \n59    60         Call of Duty: Black Ops         call-of-duty-black-ops   \n\n               Genre ESRB_Rating Platform       Publisher           Developer  \\\n19            Action           M      PS3  Rockstar Games      Rockstar North   \n20            Action           M      PS4  Rockstar Games      Rockstar North   \n30            Action           M      PS2  Rockstar Games      Rockstar North   \n32            Action           M     X360  Rockstar Games      Rockstar North   \n34           Shooter           M      PS4      Activision            Treyarch   \n40           Shooter           M     X360      Activision       Infinity Ward   \n41           Shooter           M     X360      Activision            Treyarch   \n45  Action-Adventure           M      PS4  Rockstar Games      Rockstar Games   \n46           Shooter           M     X360      Activision            Treyarch   \n47           Shooter           M      PS3      Activision            Treyarch   \n49           Shooter           M     X360      Activision       Infinity Ward   \n50           Shooter           M      PS4      Activision  Sledgehammer Games   \n51           Shooter           M      PS3      Activision       Infinity Ward   \n53            Action           M      PS2  Rockstar Games          DMA Design   \n59           Shooter           M      PS3      Activision            Treyarch   \n\n    Critic_Score  Global_Sales  NA_Sales  PAL_Sales  JP_Sales  Other_Sales  \\\n19           9.4         20.32      6.37       9.85      0.99         3.12   \n20           9.7         19.39      6.06       9.71      0.60         3.02   \n30           9.6         16.15      8.41       5.49      0.47         1.78   \n32           NaN         15.86      9.06       5.33      0.06         1.42   \n34           NaN         15.09      6.18       6.05      0.41         2.44   \n40           8.7         14.82      9.07       4.29      0.13         1.33   \n41           8.8         14.74      9.76       3.73      0.11         1.14   \n45           9.8         13.94      5.26       6.21      0.21         2.26   \n46           NaN         13.86      8.27       4.32      0.07         1.20   \n47           NaN         13.80      4.99       5.88      0.65         2.28   \n49           9.5         13.53      8.54       3.63      0.08         1.28   \n50           8.0         13.40      4.67       6.21      0.40         2.12   \n51           8.8         13.35      5.54       5.78      0.49         1.54   \n53           9.5         13.10      6.99       4.51      0.30         1.30   \n59           8.7         12.67      6.01       4.40      0.48         1.78   \n\n      Year                                                url  \\\n19  2013.0  http://www.vgchartz.com/game/65884/grand-theft...   \n20  2014.0  http://www.vgchartz.com/game/83196/grand-theft...   \n30  2002.0  http://www.vgchartz.com/game/896/grand-theft-a...   \n32  2013.0  http://www.vgchartz.com/game/65883/grand-theft...   \n34  2015.0  http://www.vgchartz.com/game/85359/call-of-dut...   \n40  2011.0  http://www.vgchartz.com/game/44606/call-of-dut...   \n41  2010.0  http://www.vgchartz.com/game/44952/call-of-dut...   \n45  2018.0  http://www.vgchartz.com/game/140683/red-dead-r...   \n46  2012.0  http://www.vgchartz.com/game/70716/call-of-dut...   \n47  2012.0  http://www.vgchartz.com/game/70715/call-of-dut...   \n49  2009.0  http://www.vgchartz.com/game/28848/call-of-dut...   \n50  2017.0  http://www.vgchartz.com/game/170599/call-of-du...   \n51  2011.0  http://www.vgchartz.com/game/44605/call-of-dut...   \n53  2001.0  http://www.vgchartz.com/game/891/grand-theft-a...   \n59  2010.0  http://www.vgchartz.com/game/44951/call-of-dut...   \n\n                                              img_url  \n19      /games/boxart/full_6510540AmericaFrontccc.jpg  \n20      /games/boxart/full_5563178AmericaFrontccc.jpg  \n30                        /games/boxart/827563ccc.jpg  \n32      /games/boxart/full_9218923AmericaFrontccc.jpg  \n34      /games/boxart/full_4990510AmericaFrontccc.jpg  \n40  /games/boxart/full_call-of-duty-modern-warfare...  \n41  /games/boxart/full_call-of-duty-black-ops_5Ame...  \n45      /games/boxart/full_4653215AmericaFrontccc.jpg  \n46      /games/boxart/full_1977964AmericaFrontccc.jpg  \n47      /games/boxart/full_4649679AmericaFrontccc.png  \n49       /games/boxart/full_809251AmericaFrontccc.jpg  \n50      /games/boxart/full_4380292AmericaFrontccc.jpg  \n51  /games/boxart/full_call-of-duty-modern-warfare...  \n53                       /games/boxart/3570928ccc.jpg  \n59  /games/boxart/full_call-of-duty-black-ops_3Ame...  ",
      "text/html": "<div>\n<style scoped>\n    .dataframe tbody tr th:only-of-type {\n        vertical-align: middle;\n    }\n\n    .dataframe tbody tr th {\n        vertical-align: top;\n    }\n\n    .dataframe thead th {\n        text-align: right;\n    }\n</style>\n<table border=\"1\" class=\"dataframe\">\n  <thead>\n    <tr style=\"text-align: right;\">\n      <th></th>\n      <th>Rank</th>\n      <th>Name</th>\n      <th>basename</th>\n      <th>Genre</th>\n      <th>ESRB_Rating</th>\n      <th>Platform</th>\n      <th>Publisher</th>\n      <th>Developer</th>\n      <th>Critic_Score</th>\n      <th>Global_Sales</th>\n      <th>NA_Sales</th>\n      <th>PAL_Sales</th>\n      <th>JP_Sales</th>\n      <th>Other_Sales</th>\n      <th>Year</th>\n      <th>url</th>\n      <th>img_url</th>\n    </tr>\n  </thead>\n  <tbody>\n    <tr>\n      <th>19</th>\n      <td>20</td>\n      <td>Grand Theft Auto V</td>\n      <td>grand-theft-auto-v</td>\n      <td>Action</td>\n      <td>M</td>\n      <td>PS3</td>\n      <td>Rockstar Games</td>\n      <td>Rockstar North</td>\n      <td>9.4</td>\n      <td>20.32</td>\n      <td>6.37</td>\n      <td>9.85</td>\n      <td>0.99</td>\n      <td>3.12</td>\n      <td>2013.0</td>\n      <td>http://www.vgchartz.com/game/65884/grand-theft...</td>\n      <td>/games/boxart/full_6510540AmericaFrontccc.jpg</td>\n    </tr>\n    <tr>\n      <th>20</th>\n      <td>21</td>\n      <td>Grand Theft Auto V</td>\n      <td>grand-theft-auto-v</td>\n      <td>Action</td>\n      <td>M</td>\n      <td>PS4</td>\n      <td>Rockstar Games</td>\n      <td>Rockstar North</td>\n      <td>9.7</td>\n      <td>19.39</td>\n      <td>6.06</td>\n      <td>9.71</td>\n      <td>0.60</td>\n      <td>3.02</td>\n      <td>2014.0</td>\n      <td>http://www.vgchartz.com/game/83196/grand-theft...</td>\n      <td>/games/boxart/full_5563178AmericaFrontccc.jpg</td>\n    </tr>\n    <tr>\n      <th>30</th>\n      <td>31</td>\n      <td>Grand Theft Auto: Vice City</td>\n      <td>grand-theft-auto-vice-city</td>\n      <td>Action</td>\n      <td>M</td>\n      <td>PS2</td>\n      <td>Rockstar Games</td>\n      <td>Rockstar North</td>\n      <td>9.6</td>\n      <td>16.15</td>\n      <td>8.41</td>\n      <td>5.49</td>\n      <td>0.47</td>\n      <td>1.78</td>\n      <td>2002.0</td>\n      <td>http://www.vgchartz.com/game/896/grand-theft-a...</td>\n      <td>/games/boxart/827563ccc.jpg</td>\n    </tr>\n    <tr>\n      <th>32</th>\n      <td>33</td>\n      <td>Grand Theft Auto V</td>\n      <td>grand-theft-auto-v</td>\n      <td>Action</td>\n      <td>M</td>\n      <td>X360</td>\n      <td>Rockstar Games</td>\n      <td>Rockstar North</td>\n      <td>NaN</td>\n      <td>15.86</td>\n      <td>9.06</td>\n      <td>5.33</td>\n      <td>0.06</td>\n      <td>1.42</td>\n      <td>2013.0</td>\n      <td>http://www.vgchartz.com/game/65883/grand-theft...</td>\n      <td>/games/boxart/full_9218923AmericaFrontccc.jpg</td>\n    </tr>\n    <tr>\n      <th>34</th>\n      <td>35</td>\n      <td>Call of Duty: Black Ops 3</td>\n      <td>call-of-duty-black-ops-3</td>\n      <td>Shooter</td>\n      <td>M</td>\n      <td>PS4</td>\n      <td>Activision</td>\n      <td>Treyarch</td>\n      <td>NaN</td>\n      <td>15.09</td>\n      <td>6.18</td>\n      <td>6.05</td>\n      <td>0.41</td>\n      <td>2.44</td>\n      <td>2015.0</td>\n      <td>http://www.vgchartz.com/game/85359/call-of-dut...</td>\n      <td>/games/boxart/full_4990510AmericaFrontccc.jpg</td>\n    </tr>\n    <tr>\n      <th>40</th>\n      <td>41</td>\n      <td>Call of Duty: Modern Warfare 3</td>\n      <td>call-of-duty-modern-warfare-3</td>\n      <td>Shooter</td>\n      <td>M</td>\n      <td>X360</td>\n      <td>Activision</td>\n      <td>Infinity Ward</td>\n      <td>8.7</td>\n      <td>14.82</td>\n      <td>9.07</td>\n      <td>4.29</td>\n      <td>0.13</td>\n      <td>1.33</td>\n      <td>2011.0</td>\n      <td>http://www.vgchartz.com/game/44606/call-of-dut...</td>\n      <td>/games/boxart/full_call-of-duty-modern-warfare...</td>\n    </tr>\n    <tr>\n      <th>41</th>\n      <td>42</td>\n      <td>Call of Duty: Black Ops</td>\n      <td>call-of-duty-black-ops</td>\n      <td>Shooter</td>\n      <td>M</td>\n      <td>X360</td>\n      <td>Activision</td>\n      <td>Treyarch</td>\n      <td>8.8</td>\n      <td>14.74</td>\n      <td>9.76</td>\n      <td>3.73</td>\n      <td>0.11</td>\n      <td>1.14</td>\n      <td>2010.0</td>\n      <td>http://www.vgchartz.com/game/44952/call-of-dut...</td>\n      <td>/games/boxart/full_call-of-duty-black-ops_5Ame...</td>\n    </tr>\n    <tr>\n      <th>45</th>\n      <td>46</td>\n      <td>Red Dead Redemption 2</td>\n      <td>red-dead-redemption-2</td>\n      <td>Action-Adventure</td>\n      <td>M</td>\n      <td>PS4</td>\n      <td>Rockstar Games</td>\n      <td>Rockstar Games</td>\n      <td>9.8</td>\n      <td>13.94</td>\n      <td>5.26</td>\n      <td>6.21</td>\n      <td>0.21</td>\n      <td>2.26</td>\n      <td>2018.0</td>\n      <td>http://www.vgchartz.com/game/140683/red-dead-r...</td>\n      <td>/games/boxart/full_4653215AmericaFrontccc.jpg</td>\n    </tr>\n    <tr>\n      <th>46</th>\n      <td>47</td>\n      <td>Call of Duty: Black Ops II</td>\n      <td>call-of-duty-black-ops-ii</td>\n      <td>Shooter</td>\n      <td>M</td>\n      <td>X360</td>\n      <td>Activision</td>\n      <td>Treyarch</td>\n      <td>NaN</td>\n      <td>13.86</td>\n      <td>8.27</td>\n      <td>4.32</td>\n      <td>0.07</td>\n      <td>1.20</td>\n      <td>2012.0</td>\n      <td>http://www.vgchartz.com/game/70716/call-of-dut...</td>\n      <td>/games/boxart/full_1977964AmericaFrontccc.jpg</td>\n    </tr>\n    <tr>\n      <th>47</th>\n      <td>48</td>\n      <td>Call of Duty: Black Ops II</td>\n      <td>call-of-duty-black-ops-ii</td>\n      <td>Shooter</td>\n      <td>M</td>\n      <td>PS3</td>\n      <td>Activision</td>\n      <td>Treyarch</td>\n      <td>NaN</td>\n      <td>13.80</td>\n      <td>4.99</td>\n      <td>5.88</td>\n      <td>0.65</td>\n      <td>2.28</td>\n      <td>2012.0</td>\n      <td>http://www.vgchartz.com/game/70715/call-of-dut...</td>\n      <td>/games/boxart/full_4649679AmericaFrontccc.png</td>\n    </tr>\n    <tr>\n      <th>49</th>\n      <td>50</td>\n      <td>Call of Duty: Modern Warfare 2</td>\n      <td>call-of-duty-modern-warfare-2</td>\n      <td>Shooter</td>\n      <td>M</td>\n      <td>X360</td>\n      <td>Activision</td>\n      <td>Infinity Ward</td>\n      <td>9.5</td>\n      <td>13.53</td>\n      <td>8.54</td>\n      <td>3.63</td>\n      <td>0.08</td>\n      <td>1.28</td>\n      <td>2009.0</td>\n      <td>http://www.vgchartz.com/game/28848/call-of-dut...</td>\n      <td>/games/boxart/full_809251AmericaFrontccc.jpg</td>\n    </tr>\n    <tr>\n      <th>50</th>\n      <td>51</td>\n      <td>Call of Duty: WWII</td>\n      <td>call-of-duty-wwii</td>\n      <td>Shooter</td>\n      <td>M</td>\n      <td>PS4</td>\n      <td>Activision</td>\n      <td>Sledgehammer Games</td>\n      <td>8.0</td>\n      <td>13.40</td>\n      <td>4.67</td>\n      <td>6.21</td>\n      <td>0.40</td>\n      <td>2.12</td>\n      <td>2017.0</td>\n      <td>http://www.vgchartz.com/game/170599/call-of-du...</td>\n      <td>/games/boxart/full_4380292AmericaFrontccc.jpg</td>\n    </tr>\n    <tr>\n      <th>51</th>\n      <td>52</td>\n      <td>Call of Duty: Modern Warfare 3</td>\n      <td>call-of-duty-modern-warfare-3</td>\n      <td>Shooter</td>\n      <td>M</td>\n      <td>PS3</td>\n      <td>Activision</td>\n      <td>Infinity Ward</td>\n      <td>8.8</td>\n      <td>13.35</td>\n      <td>5.54</td>\n      <td>5.78</td>\n      <td>0.49</td>\n      <td>1.54</td>\n      <td>2011.0</td>\n      <td>http://www.vgchartz.com/game/44605/call-of-dut...</td>\n      <td>/games/boxart/full_call-of-duty-modern-warfare...</td>\n    </tr>\n    <tr>\n      <th>53</th>\n      <td>54</td>\n      <td>Grand Theft Auto III</td>\n      <td>grand-theft-auto-iii</td>\n      <td>Action</td>\n      <td>M</td>\n      <td>PS2</td>\n      <td>Rockstar Games</td>\n      <td>DMA Design</td>\n      <td>9.5</td>\n      <td>13.10</td>\n      <td>6.99</td>\n      <td>4.51</td>\n      <td>0.30</td>\n      <td>1.30</td>\n      <td>2001.0</td>\n      <td>http://www.vgchartz.com/game/891/grand-theft-a...</td>\n      <td>/games/boxart/3570928ccc.jpg</td>\n    </tr>\n    <tr>\n      <th>59</th>\n      <td>60</td>\n      <td>Call of Duty: Black Ops</td>\n      <td>call-of-duty-black-ops</td>\n      <td>Shooter</td>\n      <td>M</td>\n      <td>PS3</td>\n      <td>Activision</td>\n      <td>Treyarch</td>\n      <td>8.7</td>\n      <td>12.67</td>\n      <td>6.01</td>\n      <td>4.40</td>\n      <td>0.48</td>\n      <td>1.78</td>\n      <td>2010.0</td>\n      <td>http://www.vgchartz.com/game/44951/call-of-dut...</td>\n      <td>/games/boxart/full_call-of-duty-black-ops_3Ame...</td>\n    </tr>\n  </tbody>\n</table>\n</div>"
     },
     "metadata": {},
     "execution_count": 2
    }
   ],
   "source": [
    "'''\n",
    "Rank - Ranking of overall sales\n",
    "Name - Name of the game\n",
    "Platform - Platform of the game (i.e. PC, PS4, XOne, etc.)\n",
    "Genre - Genre of the game\n",
    "ESRB Rating - ESRB Rating of the game\n",
    "Publisher - Publisher of the game\n",
    "Developer - Developer of the game\n",
    "Critic Score - Critic score of the game from 10\n",
    "User Score - Users score the game from 10\n",
    "Total Shipped - Total shipped copies of the game\n",
    "Global_Sales - Total worldwide sales (in millions of units)\n",
    "NA_Sales - Sales in North America (in millions)\n",
    "PAL_Sales - Sales in Europe (in millions)\n",
    "JP_Sales - Sales in Japan (in millions)\n",
    "Other_Sales - Sales in the rest of the world (in millions)\n",
    "Year - Year of release of the game\n",
    "'''\n",
    "\n",
    "import numpy as np\n",
    "import matplotlib.pyplot as plt \n",
    "import pandas as pd \n",
    "\n",
    "data = pd.read_csv(\"vgsales-12-4-2019.csv\")\n",
    "data = data[data['Global_Sales'].notna()]\n",
    "data = data[data.Global_Sales != 0]\n",
    "\n",
    "del data['VGChartz_Score']\n",
    "del data['User_Score']\n",
    "del data['Total_Shipped']\n",
    "del data['Last_Update']\n",
    "del data['status']\n",
    "del data['Vgchartzscore']\n",
    "\n",
    "data.head(15)"
   ]
  },
  {
   "cell_type": "code",
   "execution_count": 3,
   "metadata": {},
   "outputs": [
    {
     "output_type": "stream",
     "name": "stdout",
     "text": "<class 'pandas.core.frame.DataFrame'>\nInt64Index: 18035 entries, 19 to 19861\nData columns (total 17 columns):\n #   Column        Non-Null Count  Dtype  \n---  ------        --------------  -----  \n 0   Rank          18035 non-null  int64  \n 1   Name          18035 non-null  object \n 2   basename      18035 non-null  object \n 3   Genre         18035 non-null  object \n 4   ESRB_Rating   13097 non-null  object \n 5   Platform      18035 non-null  object \n 6   Publisher     18035 non-null  object \n 7   Developer     18033 non-null  object \n 8   Critic_Score  4120 non-null   float64\n 9   Global_Sales  18035 non-null  float64\n 10  NA_Sales      12777 non-null  float64\n 11  PAL_Sales     12125 non-null  float64\n 12  JP_Sales      6791 non-null   float64\n 13  Other_Sales   14510 non-null  float64\n 14  Year          18032 non-null  float64\n 15  url           18035 non-null  object \n 16  img_url       18035 non-null  object \ndtypes: float64(7), int64(1), object(9)\nmemory usage: 1.9+ MB\n"
    }
   ],
   "source": [
    "data.info()"
   ]
  },
  {
   "cell_type": "code",
   "execution_count": 4,
   "metadata": {},
   "outputs": [
    {
     "output_type": "stream",
     "name": "stdout",
     "text": "Genre\nAction              1745\nAction-Adventure     119\nAdventure           1313\nBoard Game             2\nEducation              1\nFighting             645\nMMO                   16\nMisc                1626\nMusic                 75\nParty                 21\nPlatform             592\nPuzzle               523\nRacing               820\nRole-Playing        1259\nSandbox                1\nShooter              889\nSimulation           834\nSports              1446\nStrategy             616\nVisual Novel          73\nName: Name, dtype: int64\n"
    }
   ],
   "source": [
    "genres = data.groupby('Genre')['Name'].nunique()\n",
    "\n",
    "print(genres)"
   ]
  },
  {
   "cell_type": "code",
   "execution_count": 5,
   "metadata": {},
   "outputs": [
    {
     "output_type": "execute_result",
     "data": {
      "text/plain": "    Action  Action-Adventure  Adventure  Board Game  Education  Fighting  MMO  \\\n19       1                 0          0           0          0         0    0   \n20       1                 0          0           0          0         0    0   \n30       1                 0          0           0          0         0    0   \n32       1                 0          0           0          0         0    0   \n34       0                 0          0           0          0         0    0   \n\n    Misc  Music  Party  Platform  Puzzle  Racing  Role-Playing  Sandbox  \\\n19     0      0      0         0       0       0             0        0   \n20     0      0      0         0       0       0             0        0   \n30     0      0      0         0       0       0             0        0   \n32     0      0      0         0       0       0             0        0   \n34     0      0      0         0       0       0             0        0   \n\n    Shooter  Simulation  Sports  Strategy  Visual Novel  \n19        0           0       0         0             0  \n20        0           0       0         0             0  \n30        0           0       0         0             0  \n32        0           0       0         0             0  \n34        1           0       0         0             0  ",
      "text/html": "<div>\n<style scoped>\n    .dataframe tbody tr th:only-of-type {\n        vertical-align: middle;\n    }\n\n    .dataframe tbody tr th {\n        vertical-align: top;\n    }\n\n    .dataframe thead th {\n        text-align: right;\n    }\n</style>\n<table border=\"1\" class=\"dataframe\">\n  <thead>\n    <tr style=\"text-align: right;\">\n      <th></th>\n      <th>Action</th>\n      <th>Action-Adventure</th>\n      <th>Adventure</th>\n      <th>Board Game</th>\n      <th>Education</th>\n      <th>Fighting</th>\n      <th>MMO</th>\n      <th>Misc</th>\n      <th>Music</th>\n      <th>Party</th>\n      <th>Platform</th>\n      <th>Puzzle</th>\n      <th>Racing</th>\n      <th>Role-Playing</th>\n      <th>Sandbox</th>\n      <th>Shooter</th>\n      <th>Simulation</th>\n      <th>Sports</th>\n      <th>Strategy</th>\n      <th>Visual Novel</th>\n    </tr>\n  </thead>\n  <tbody>\n    <tr>\n      <th>19</th>\n      <td>1</td>\n      <td>0</td>\n      <td>0</td>\n      <td>0</td>\n      <td>0</td>\n      <td>0</td>\n      <td>0</td>\n      <td>0</td>\n      <td>0</td>\n      <td>0</td>\n      <td>0</td>\n      <td>0</td>\n      <td>0</td>\n      <td>0</td>\n      <td>0</td>\n      <td>0</td>\n      <td>0</td>\n      <td>0</td>\n      <td>0</td>\n      <td>0</td>\n    </tr>\n    <tr>\n      <th>20</th>\n      <td>1</td>\n      <td>0</td>\n      <td>0</td>\n      <td>0</td>\n      <td>0</td>\n      <td>0</td>\n      <td>0</td>\n      <td>0</td>\n      <td>0</td>\n      <td>0</td>\n      <td>0</td>\n      <td>0</td>\n      <td>0</td>\n      <td>0</td>\n      <td>0</td>\n      <td>0</td>\n      <td>0</td>\n      <td>0</td>\n      <td>0</td>\n      <td>0</td>\n    </tr>\n    <tr>\n      <th>30</th>\n      <td>1</td>\n      <td>0</td>\n      <td>0</td>\n      <td>0</td>\n      <td>0</td>\n      <td>0</td>\n      <td>0</td>\n      <td>0</td>\n      <td>0</td>\n      <td>0</td>\n      <td>0</td>\n      <td>0</td>\n      <td>0</td>\n      <td>0</td>\n      <td>0</td>\n      <td>0</td>\n      <td>0</td>\n      <td>0</td>\n      <td>0</td>\n      <td>0</td>\n    </tr>\n    <tr>\n      <th>32</th>\n      <td>1</td>\n      <td>0</td>\n      <td>0</td>\n      <td>0</td>\n      <td>0</td>\n      <td>0</td>\n      <td>0</td>\n      <td>0</td>\n      <td>0</td>\n      <td>0</td>\n      <td>0</td>\n      <td>0</td>\n      <td>0</td>\n      <td>0</td>\n      <td>0</td>\n      <td>0</td>\n      <td>0</td>\n      <td>0</td>\n      <td>0</td>\n      <td>0</td>\n    </tr>\n    <tr>\n      <th>34</th>\n      <td>0</td>\n      <td>0</td>\n      <td>0</td>\n      <td>0</td>\n      <td>0</td>\n      <td>0</td>\n      <td>0</td>\n      <td>0</td>\n      <td>0</td>\n      <td>0</td>\n      <td>0</td>\n      <td>0</td>\n      <td>0</td>\n      <td>0</td>\n      <td>0</td>\n      <td>1</td>\n      <td>0</td>\n      <td>0</td>\n      <td>0</td>\n      <td>0</td>\n    </tr>\n  </tbody>\n</table>\n</div>"
     },
     "metadata": {},
     "execution_count": 5
    }
   ],
   "source": [
    "ohe = pd.get_dummies(data['Genre'])\n",
    "\n",
    "ohe.head()"
   ]
  },
  {
   "cell_type": "code",
   "execution_count": 6,
   "metadata": {},
   "outputs": [
    {
     "output_type": "execute_result",
     "data": {
      "text/plain": "19       20.32\n20       19.39\n30       16.15\n32       15.86\n34       15.09\n         ...  \n19857     0.01\n19858     0.01\n19859     0.01\n19860     0.01\n19861     0.01\nName: Global_Sales, Length: 18035, dtype: float64"
     },
     "metadata": {},
     "execution_count": 6
    }
   ],
   "source": [
    "data = pd.concat([data, ohe], axis=1)\n",
    "\n",
    "data.Global_Sales"
   ]
  },
  {
   "cell_type": "code",
   "execution_count": 7,
   "metadata": {},
   "outputs": [],
   "source": [
    "x = data.iloc[:,17:37]\n",
    "y = data.Global_Sales\n",
    "\n",
    "from sklearn.model_selection import train_test_split\n",
    "from sklearn.linear_model import LinearRegression\n",
    "\n",
    "x_train, x_test, y_train, y_test = train_test_split(x, y, test_size = 1/3, random_state=0)\n",
    "\n",
    "linreg = LinearRegression()\n",
    "\n",
    "linreg.fit(x_train, y_train)\n",
    "\n",
    "y_pred = linreg.predict(x_test)"
   ]
  },
  {
   "cell_type": "code",
   "execution_count": 8,
   "metadata": {},
   "outputs": [],
   "source": [
    "action = [[1,0,0,0,0,0,0,0,0,0,0,0,0,0,0,0,0,0,0,0]]\n",
    "action_adventure = [[0,1,0,0,0,0,0,0,0,0,0,0,0,0,0,0,0,0,0,0]]\n",
    "adventure = [[0,0,1,0,0,0,0,0,0,0,0,0,0,0,0,0,0,0,0,0]]\n",
    "board_game = [[0,0,0,1,0,0,0,0,0,0,0,0,0,0,0,0,0,0,0,0]]\n",
    "education = [[0,0,0,0,1,0,0,0,0,0,0,0,0,0,0,0,0,0,0,0]]\n",
    "fighting = [[0,0,0,0,0,1,0,0,0,0,0,0,0,0,0,0,0,0,0,0]]\n",
    "mmo = [[0,0,0,0,0,0,1,0,0,0,0,0,0,0,0,0,0,0,0,0]]\n",
    "misc = [[0,0,0,0,0,0,0,1,0,0,0,0,0,0,0,0,0,0,0,0]]\n",
    "music = [[0,0,0,0,0,0,0,0,1,0,0,0,0,0,0,0,0,0,0,0]]\n",
    "party = [[0,0,0,0,0,0,0,0,0,1,0,0,0,0,0,0,0,0,0,0]]\n",
    "platform = [[0,0,0,0,0,0,0,0,0,0,1,0,0,0,0,0,0,0,0,0]]\n",
    "puzzle = [[0,0,0,0,0,0,0,0,0,0,0,1,0,0,0,0,0,0,0,0]]\n",
    "racing = [[0,0,0,0,0,0,0,0,0,0,0,0,1,0,0,0,0,0,0,0]]\n",
    "rpg = [[0,0,0,0,0,0,0,0,0,0,0,0,0,1,0,0,0,0,0,0]]\n",
    "sandbox = [[0,0,0,0,0,0,0,0,0,0,0,0,0,0,1,0,0,0,0,0]]\n",
    "fps = [[0,0,0,0,0,0,0,0,0,0,0,0,0,0,0,1,0,0,0,0]]\n",
    "sim = [[0,0,0,0,0,0,0,0,0,0,0,0,0,0,0,0,1,0,0,0]]\n",
    "sports = [[0,0,0,0,0,0,0,0,0,0,0,0,0,0,0,0,0,1,0,0]]\n",
    "strategy = [[0,0,0,0,0,0,0,0,0,0,0,0,0,0,0,0,0,0,1,0]]\n",
    "visual = [[0,0,0,0,0,0,0,0,0,0,0,0,0,0,0,0,0,0,0,1]]"
   ]
  },
  {
   "cell_type": "code",
   "execution_count": 10,
   "metadata": {},
   "outputs": [],
   "source": [
    "def my_predict(genre):\n",
    "    genre_dict = {\n",
    "        \"action\" : action,\n",
    "        \"action adventure\" : action_adventure,\n",
    "        \"adventure\" : adventure,\n",
    "        \"board game\" : board_game,\n",
    "        \"education\" : education,\n",
    "        \"fighting\" : fighting,\n",
    "        \"mmo\" : mmo,\n",
    "        \"misc\" : misc,\n",
    "        \"music\" : music,\n",
    "        \"party\" : party,\n",
    "        \"platform\" : platform,\n",
    "        \"puzzle\" : puzzle,\n",
    "        \"racing\" : racing,\n",
    "        \"rpg\" : rpg,\n",
    "        \"sandbox\" : sandbox,\n",
    "        \"fps\" : fps,\n",
    "        \"sim\" : sim,\n",
    "        \"sports\" : sports,\n",
    "        \"strategy\" : strategy,\n",
    "        \"visual novel\" : visual\n",
    "    }\n",
    "\n",
    "    game = linreg.predict(genre_dict[genre])\n",
    "\n",
    "    predicted_sales = '${:,.2f}'.format((game[0]*1000000)*60)\n",
    "    print(\"Predicted lifetime revenue for\", genre,\"game:\", predicted_sales)"
   ]
  },
  {
   "cell_type": "code",
   "execution_count": 11,
   "metadata": {},
   "outputs": [
    {
     "output_type": "stream",
     "name": "stdout",
     "text": "Predicted lifetime revenue for action game: $27,502,040.86\n"
    }
   ],
   "source": [
    "my_predict(\"action\")"
   ]
  },
  {
   "cell_type": "code",
   "execution_count": 12,
   "metadata": {},
   "outputs": [
    {
     "output_type": "stream",
     "name": "stdout",
     "text": "Predicted lifetime revenue for fps game: $42,715,587.62\n"
    }
   ],
   "source": [
    "my_predict(\"fps\")"
   ]
  },
  {
   "cell_type": "code",
   "execution_count": 13,
   "metadata": {},
   "outputs": [
    {
     "output_type": "stream",
     "name": "stdout",
     "text": "Predicted lifetime revenue for sandbox game: $113,402,595.52\n"
    }
   ],
   "source": [
    "my_predict(\"sandbox\")"
   ]
  },
  {
   "cell_type": "code",
   "execution_count": 14,
   "metadata": {},
   "outputs": [
    {
     "output_type": "stream",
     "name": "stdout",
     "text": "Predicted lifetime revenue for education game: $5,456,027.98\n"
    }
   ],
   "source": [
    "my_predict(\"education\")"
   ]
  },
  {
   "cell_type": "code",
   "execution_count": 15,
   "metadata": {},
   "outputs": [
    {
     "output_type": "stream",
     "name": "stdout",
     "text": "Predicted lifetime revenue for strategy game: $11,401,577.00\n"
    }
   ],
   "source": [
    "my_predict(\"strategy\")"
   ]
  },
  {
   "cell_type": "code",
   "execution_count": 16,
   "metadata": {},
   "outputs": [
    {
     "output_type": "execute_result",
     "data": {
      "text/plain": "['finalized_model.pkl']"
     },
     "metadata": {},
     "execution_count": 16
    }
   ],
   "source": [
    "from sklearn.externals import joblib\n",
    "\n",
    "joblib.dump(linreg, 'finalized_model.pkl')"
   ]
  },
  {
   "cell_type": "code",
   "execution_count": null,
   "metadata": {},
   "outputs": [],
   "source": []
  }
 ],
 "metadata": {
  "language_info": {
   "codemirror_mode": {
    "name": "ipython",
    "version": 3
   },
   "file_extension": ".py",
   "mimetype": "text/x-python",
   "name": "python",
   "nbconvert_exporter": "python",
   "pygments_lexer": "ipython3",
   "version": "3.8.2-final"
  },
  "orig_nbformat": 2,
  "kernelspec": {
   "name": "python38232bitvenvvenv53dca38e8019499795728eef5a492925",
   "display_name": "Python 3.8.2 32-bit ('venv': venv)"
  }
 },
 "nbformat": 4,
 "nbformat_minor": 2
}